{
  "cells": [
    {
      "cell_type": "code",
      "source": [
        "from transformers import AutoTokenizer, AutoModelForCausalLM\n",
        "import torch\n",
        "\n",
        "model_name = \"mistralai/Mistral-7B-Instruct-v0.1\"\n",
        "\n",
        "# Load tokenizer and model (uses your logged-in credentials)\n",
        "tokenizer = AutoTokenizer.from_pretrained(model_name)\n",
        "model = AutoModelForCausalLM.from_pretrained(\n",
        "    model_name,\n",
        "    torch_dtype=torch.float16,   # GPU optimized for 6GB VRAM\n",
        "    device_map=\"auto\"\n",
        ")\n",
        "\n",
        "print(\"✅ Model loaded on:\", next(model.parameters()).device)\n"
      ],
      "metadata": {
        "colab": {
          "base_uri": "https://localhost:8080/",
          "height": 105,
          "referenced_widgets": [
            "6763a05db0a0430890ef42faa299296b",
            "a70a36a76b2b4f7c988800d115b47e0e",
            "566aa6d831734300b5557540b1bb973d",
            "b5cb51845e264f21a06a895167ff99cb",
            "adb4348289084b369416f8fb1ff63d04",
            "22883bd83cf44bbfa23216f1d96c616c",
            "a3e67a43b8d74b3095ad3c3933a5e5d4",
            "7977d3e5829f46faac41a2251a2b5d1d",
            "140d0daeb7404cc58a77ff4101be9b96",
            "7e7a9c00567b4f65838f2f406c78373a",
            "a75d6bcc5bbd4574b703adcd124a8311"
          ]
        },
        "id": "KJ5-RI_aNKR2",
        "outputId": "78e29a02-ea4c-415e-e68f-e516a51d4c95"
      },
      "id": "KJ5-RI_aNKR2",
      "execution_count": null,
      "outputs": [
        {
          "output_type": "display_data",
          "data": {
            "text/plain": [
              "Loading checkpoint shards:   0%|          | 0/2 [00:00<?, ?it/s]"
            ],
            "application/vnd.jupyter.widget-view+json": {
              "version_major": 2,
              "version_minor": 0,
              "model_id": "6763a05db0a0430890ef42faa299296b"
            }
          },
          "metadata": {}
        },
        {
          "output_type": "stream",
          "name": "stderr",
          "text": [
            "WARNING:accelerate.big_modeling:Some parameters are on the meta device because they were offloaded to the cpu.\n"
          ]
        },
        {
          "output_type": "stream",
          "name": "stdout",
          "text": [
            "✅ Model loaded on: cuda:0\n"
          ]
        }
      ]
    },
    {
      "cell_type": "code",
      "source": [
        "import pandas as pd\n",
        "from tqdm import tqdm\n",
        "import re\n",
        "import time\n",
        "\n",
        "# Your current function (no prints)\n",
        "def classify_stereotype_with_mistral_v5_silent(line):\n",
        "   prompt = f\"\"\"\n",
        "   You are a language model trained to detect gender stereotypes in lines from movie scripts.\n",
        "   Your task is to classify each line into exactly one of the following 14 categories, based on the presence of stereotypical portrayals—especially of women.\n",
        "   Assign only **one** label per line. Be careful to read subtle biases. Return only the **label** (not the line, not any explanation).\n",
        "   Here are the 14 valid categories:\n",
        "    1. occupation_gap → The character lacks a job, career mention, or professional identity.\n",
        "      - Ex: \"She stayed home while the others went to work.\"\n",
        "\n",
        "    2. agency_gap → The character lacks independence or decision-making ability; is passive or submissive.\n",
        "      - Ex: \"She looked at him, waiting for his decision.\"\n",
        "\n",
        "    3. appearance_focus → Emphasis on physical appearance, beauty, clothing, or body—but not sexual objectification.\n",
        "      - Ex: \"She walked in wearing a tight red dress that hugged every curve.\"\n",
        "\n",
        "    4. relationship_only → Introduced only as a relation to another (wife, daughter, etc.).\n",
        "      - Ex: \"That's John's wife, the one sitting by the window.\"\n",
        "\n",
        "    5. screen_time_disparity→ Line shows that women have very limited screen/dialog presence.\n",
        "      - Ex: \"The male characters dominated every major scene, while she had only two lines.\"\n",
        "\n",
        "    6. dialogue_initiation_gap → The woman doesn't start conversations or only speaks when spoken to.\n",
        "      - Ex: \"She rarely spoke unless someone asked her a question first.\"\n",
        "\n",
        "    7. emotional_typecast → The woman is only shown as overly emotional, irrational, or tearful.\n",
        "      - Ex: \"She burst into tears again, as usual.\"\n",
        "\n",
        "    8. domesticity_emphasis → Emphasis on domestic roles (cooking, cleaning, homemaking).\n",
        "      - Ex: \"She was happiest baking cookies in her cozy kitchen.\"\n",
        "\n",
        "    9. objectification → The body is sexualized visually or narratively. Often includes gaze, zoom-ins, or body parts.\n",
        "      - Ex: \"The camera panned slowly from her legs to her chest.\"\n",
        "\n",
        "    10. victim_only → The woman appears only to suffer harm or be rescued, with no further agency.\n",
        "      - Ex: \"She screamed for help as the villain grabbed her.\"\n",
        "\n",
        "    11. intelligence_undermined → The woman is portrayed as dumb, ditzy, or confused—especially in academic/intellectual areas.\n",
        "      - Ex: \"She looked confused by the math problem and giggled nervously.\"\n",
        "\n",
        "    12. support_role_only → Exists only to encourage, cheer for, or help a man without her own arc.\n",
        "      - Ex: \"She cheered him on from the sidelines as he accepted his award.\"\n",
        "\n",
        "    13. villainization → Woman is unfairly portrayed as evil, manipulative, or cruel (e.g. stepmother, seductress).\n",
        "      - Ex: \"The evil stepmother glared with contempt and plotted her revenge.\"\n",
        "\n",
        "    14. none → The line is empowering or neutral. No stereotype or bias.\n",
        "      - Ex: \"She led the mission with confidence and precision.\"\n",
        "\n",
        "    ---\n",
        "\n",
        "    Read the line carefully. Choose the **most accurate single category** from the above list.\n",
        "    If the line contains no bias, use `none`.\n",
        "\n",
        "    Line: \"{line}\"\n",
        "    Label:\"\"\"\n",
        "   inputs = tokenizer(prompt, return_tensors=\"pt\").to(model.device)\n",
        "   outputs = model.generate(\n",
        "       **inputs,\n",
        "       max_new_tokens=10,\n",
        "       pad_token_id=tokenizer.eos_token_id,\n",
        "   )\n",
        "   decoded = tokenizer.decode(outputs[0], skip_special_tokens=True).strip()\n",
        "   label_matches = re.findall(r\"Label:\\s*(\\w+)\", decoded)\n",
        "   valid_labels = {\n",
        "     \"occupation_gap\",\n",
        "     \"agency_gap\",\n",
        "     \"appearance_focus\",\n",
        "     \"relationship_only\",\n",
        "     \"screen_time_disparity\",\n",
        "     \"dialogue_initiation_gap\",\n",
        "     \"emotional_typecast\",\n",
        "     \"domesticity_emphasis\",\n",
        "     \"objectification\",\n",
        "     \"victim_only\",\n",
        "     \"intelligence_undermined\",\n",
        "     \"support_role_only\",\n",
        "     \"villainization\",\n",
        "     \"none\"\n",
        "   }\n",
        "   label = next((lbl.lower() for lbl in reversed(label_matches) if lbl.lower() in valid_labels), \"none\")\n",
        "   return label"
      ],
      "metadata": {
        "id": "MbS2z-8zTFjj"
      },
      "id": "MbS2z-8zTFjj",
      "execution_count": null,
      "outputs": []
    },
    {
      "cell_type": "code",
      "source": [
        "test_sentences = {\n",
        "    \"occupation_gap\": \"She stayed home while the others went to work.\",\n",
        "    \"agency_gap\": \"She looked at him, waiting for his decision.\",\n",
        "    \"appearance_focus\": \"She walked in wearing a tight red dress that hugged every curve.\",\n",
        "    \"relationship_only\": \"That's John's wife, the one sitting by the window.\",\n",
        "    \"screen_time_disparity\": \"The male characters dominated every major scene, while she had only two lines.\",\n",
        "    \"dialogue_initiation_gap\": \"She rarely spoke unless someone asked her a question first.\",\n",
        "    \"emotional_typecast\": \"She burst into tears again, as usual.\",\n",
        "    \"domesticity_emphasis\": \"She was happiest baking cookies in her cozy kitchen.\",\n",
        "    \"objectification\": \"The camera panned slowly from her legs to her chest.\",\n",
        "    \"victim_only\": \"She screamed for help as the villain grabbed her.\",\n",
        "    \"intelligence_undermined\": \"She looked confused by the math problem and giggled nervously.\",\n",
        "    \"support_role_only\": \"She cheered him on from the sidelines as he accepted his award.\",\n",
        "    \"villainization\": \"The evil stepmother glared with contempt and plotted her revenge.\",\n",
        "    \"none\": \"She led the mission with confidence and precision.\"\n",
        "}\n",
        "\n",
        "for expected, sentence in test_sentences.items():\n",
        "    predicted = classify_stereotype_with_mistral_v5_silent(sentence)\n",
        "    print(f\"Expected: {expected} | Predicted: {predicted} | Line: {sentence}\")"
      ],
      "metadata": {
        "id": "KMBpyuvEpDk3",
        "colab": {
          "base_uri": "https://localhost:8080/"
        },
        "outputId": "df4fb033-fe4d-4608-ddcf-2c8a93a8a249"
      },
      "id": "KMBpyuvEpDk3",
      "execution_count": null,
      "outputs": [
        {
          "output_type": "stream",
          "name": "stdout",
          "text": [
            "Expected: occupation_gap | Predicted: occupation_gap | Line: She stayed home while the others went to work.\n",
            "Expected: agency_gap | Predicted: agency_gap | Line: She looked at him, waiting for his decision.\n",
            "Expected: appearance_focus | Predicted: appearance_focus | Line: She walked in wearing a tight red dress that hugged every curve.\n",
            "Expected: relationship_only | Predicted: relationship_only | Line: That's John's wife, the one sitting by the window.\n",
            "Expected: screen_time_disparity | Predicted: screen_time_disparity | Line: The male characters dominated every major scene, while she had only two lines.\n",
            "Expected: dialogue_initiation_gap | Predicted: dialogue_initiation_gap | Line: She rarely spoke unless someone asked her a question first.\n",
            "Expected: emotional_typecast | Predicted: emotional_typecast | Line: She burst into tears again, as usual.\n",
            "Expected: domesticity_emphasis | Predicted: domesticity_emphasis | Line: She was happiest baking cookies in her cozy kitchen.\n",
            "Expected: objectification | Predicted: objectification | Line: The camera panned slowly from her legs to her chest.\n",
            "Expected: victim_only | Predicted: victim_only | Line: She screamed for help as the villain grabbed her.\n",
            "Expected: intelligence_undermined | Predicted: intelligence_undermined | Line: She looked confused by the math problem and giggled nervously.\n",
            "Expected: support_role_only | Predicted: support_role_only | Line: She cheered him on from the sidelines as he accepted his award.\n",
            "Expected: villainization | Predicted: villainization | Line: The evil stepmother glared with contempt and plotted her revenge.\n",
            "Expected: none | Predicted: none | Line: She led the mission with confidence and precision.\n"
          ]
        }
      ]
    },
    {
      "cell_type": "code",
      "source": [
        "# Load your full CSV\n",
        "df = pd.read_csv(\"cleaned_script_data_plots.csv\")\n",
        "chunk_size = 250  # Experiment with 200–300 per chunk\n",
        "\n",
        "for start in range(0, len(df), chunk_size):\n",
        "    end = min(start + chunk_size, len(df))\n",
        "    chunk = df.iloc[start:end].copy()\n",
        "\n",
        "    print(f\"🧠 Processing lines {start} to {end}\")\n",
        "    tqdm.pandas()\n",
        "    chunk[\"stereotype_type\"] = chunk[\"line\"].progress_apply(classify_stereotype_with_mistral_v5_silent)\n",
        "\n",
        "    chunk.to_csv(f\"chunk_{start}_{end}.csv\", index=False)\n",
        "    print(f\"✅ Saved: chunk_{start}_{end}.csv\")\n",
        "\n",
        "    # Free GPU memory\n",
        "    torch.cuda.empty_cache()\n",
        "    time.sleep(2)"
      ],
      "metadata": {
        "id": "YQ62XWkOSAGK",
        "colab": {
          "base_uri": "https://localhost:8080/"
        },
        "outputId": "89e568e4-428a-43d4-c5e6-89767e8099b4"
      },
      "id": "YQ62XWkOSAGK",
      "execution_count": null,
      "outputs": [
        {
          "output_type": "stream",
          "name": "stdout",
          "text": [
            "🧠 Processing lines 0 to 250\n"
          ]
        },
        {
          "output_type": "stream",
          "name": "stderr",
          "text": [
            "100%|██████████| 250/250 [08:52<00:00,  2.13s/it]\n"
          ]
        },
        {
          "output_type": "stream",
          "name": "stdout",
          "text": [
            "✅ Saved: chunk_0_250.csv\n",
            "🧠 Processing lines 250 to 500\n"
          ]
        },
        {
          "output_type": "stream",
          "name": "stderr",
          "text": [
            "100%|██████████| 250/250 [08:45<00:00,  2.10s/it]\n"
          ]
        },
        {
          "output_type": "stream",
          "name": "stdout",
          "text": [
            "✅ Saved: chunk_250_500.csv\n",
            "🧠 Processing lines 500 to 750\n"
          ]
        },
        {
          "output_type": "stream",
          "name": "stderr",
          "text": [
            "100%|██████████| 250/250 [09:14<00:00,  2.22s/it]\n"
          ]
        },
        {
          "output_type": "stream",
          "name": "stdout",
          "text": [
            "✅ Saved: chunk_500_750.csv\n",
            "🧠 Processing lines 750 to 1000\n"
          ]
        },
        {
          "output_type": "stream",
          "name": "stderr",
          "text": [
            "100%|██████████| 250/250 [08:45<00:00,  2.10s/it]\n"
          ]
        },
        {
          "output_type": "stream",
          "name": "stdout",
          "text": [
            "✅ Saved: chunk_750_1000.csv\n",
            "🧠 Processing lines 1000 to 1250\n"
          ]
        },
        {
          "output_type": "stream",
          "name": "stderr",
          "text": [
            "100%|██████████| 250/250 [08:43<00:00,  2.09s/it]\n"
          ]
        },
        {
          "output_type": "stream",
          "name": "stdout",
          "text": [
            "✅ Saved: chunk_1000_1250.csv\n",
            "🧠 Processing lines 1250 to 1500\n"
          ]
        },
        {
          "output_type": "stream",
          "name": "stderr",
          "text": [
            "100%|██████████| 250/250 [08:40<00:00,  2.08s/it]\n"
          ]
        },
        {
          "output_type": "stream",
          "name": "stdout",
          "text": [
            "✅ Saved: chunk_1250_1500.csv\n",
            "🧠 Processing lines 1500 to 1750\n"
          ]
        },
        {
          "output_type": "stream",
          "name": "stderr",
          "text": [
            " 65%|██████▌   | 163/250 [05:32<03:17,  2.27s/it]"
          ]
        }
      ]
    },
    {
      "cell_type": "code",
      "source": [
        "import glob\n",
        "import pandas as pd\n",
        "files = sorted(glob.glob(\"chunk_*.csv\"))\n",
        "df_all = pd.concat([pd.read_csv(f) for f in files], ignore_index=True)\n",
        "df_all.to_csv(\"ai_stereotype_annotated_final.csv\", index=False)\n",
        "print(\"✅ All chunks merged and saved.\")"
      ],
      "metadata": {
        "id": "EvqfNbaFWaz0",
        "colab": {
          "base_uri": "https://localhost:8080/"
        },
        "outputId": "371dab20-2802-4b6c-8ee2-b191f502b51c"
      },
      "id": "EvqfNbaFWaz0",
      "execution_count": null,
      "outputs": [
        {
          "output_type": "stream",
          "name": "stdout",
          "text": [
            "✅ All chunks merged and saved.\n"
          ]
        }
      ]
    }
  ],
  "metadata": {
    "kernelspec": {
      "display_name": "Python 3",
      "name": "python3"
    },
    "language_info": {
      "codemirror_mode": {
        "name": "ipython",
        "version": 3
      },
      "file_extension": ".py",
      "mimetype": "text/x-python",
      "name": "python",
      "nbconvert_exporter": "python",
      "pygments_lexer": "ipython3",
      "version": "3.13.5"
    },
    "colab": {
      "provenance": [],
      "gpuType": "T4"
    },
    "accelerator": "GPU",
    "widgets": {
      "application/vnd.jupyter.widget-state+json": {
        "6763a05db0a0430890ef42faa299296b": {
          "model_module": "@jupyter-widgets/controls",
          "model_name": "HBoxModel",
          "model_module_version": "1.5.0",
          "state": {
            "_dom_classes": [],
            "_model_module": "@jupyter-widgets/controls",
            "_model_module_version": "1.5.0",
            "_model_name": "HBoxModel",
            "_view_count": null,
            "_view_module": "@jupyter-widgets/controls",
            "_view_module_version": "1.5.0",
            "_view_name": "HBoxView",
            "box_style": "",
            "children": [
              "IPY_MODEL_a70a36a76b2b4f7c988800d115b47e0e",
              "IPY_MODEL_566aa6d831734300b5557540b1bb973d",
              "IPY_MODEL_b5cb51845e264f21a06a895167ff99cb"
            ],
            "layout": "IPY_MODEL_adb4348289084b369416f8fb1ff63d04"
          }
        },
        "a70a36a76b2b4f7c988800d115b47e0e": {
          "model_module": "@jupyter-widgets/controls",
          "model_name": "HTMLModel",
          "model_module_version": "1.5.0",
          "state": {
            "_dom_classes": [],
            "_model_module": "@jupyter-widgets/controls",
            "_model_module_version": "1.5.0",
            "_model_name": "HTMLModel",
            "_view_count": null,
            "_view_module": "@jupyter-widgets/controls",
            "_view_module_version": "1.5.0",
            "_view_name": "HTMLView",
            "description": "",
            "description_tooltip": null,
            "layout": "IPY_MODEL_22883bd83cf44bbfa23216f1d96c616c",
            "placeholder": "​",
            "style": "IPY_MODEL_a3e67a43b8d74b3095ad3c3933a5e5d4",
            "value": "Loading checkpoint shards: 100%"
          }
        },
        "566aa6d831734300b5557540b1bb973d": {
          "model_module": "@jupyter-widgets/controls",
          "model_name": "FloatProgressModel",
          "model_module_version": "1.5.0",
          "state": {
            "_dom_classes": [],
            "_model_module": "@jupyter-widgets/controls",
            "_model_module_version": "1.5.0",
            "_model_name": "FloatProgressModel",
            "_view_count": null,
            "_view_module": "@jupyter-widgets/controls",
            "_view_module_version": "1.5.0",
            "_view_name": "ProgressView",
            "bar_style": "success",
            "description": "",
            "description_tooltip": null,
            "layout": "IPY_MODEL_7977d3e5829f46faac41a2251a2b5d1d",
            "max": 2,
            "min": 0,
            "orientation": "horizontal",
            "style": "IPY_MODEL_140d0daeb7404cc58a77ff4101be9b96",
            "value": 2
          }
        },
        "b5cb51845e264f21a06a895167ff99cb": {
          "model_module": "@jupyter-widgets/controls",
          "model_name": "HTMLModel",
          "model_module_version": "1.5.0",
          "state": {
            "_dom_classes": [],
            "_model_module": "@jupyter-widgets/controls",
            "_model_module_version": "1.5.0",
            "_model_name": "HTMLModel",
            "_view_count": null,
            "_view_module": "@jupyter-widgets/controls",
            "_view_module_version": "1.5.0",
            "_view_name": "HTMLView",
            "description": "",
            "description_tooltip": null,
            "layout": "IPY_MODEL_7e7a9c00567b4f65838f2f406c78373a",
            "placeholder": "​",
            "style": "IPY_MODEL_a75d6bcc5bbd4574b703adcd124a8311",
            "value": " 2/2 [01:09&lt;00:00, 32.85s/it]"
          }
        },
        "adb4348289084b369416f8fb1ff63d04": {
          "model_module": "@jupyter-widgets/base",
          "model_name": "LayoutModel",
          "model_module_version": "1.2.0",
          "state": {
            "_model_module": "@jupyter-widgets/base",
            "_model_module_version": "1.2.0",
            "_model_name": "LayoutModel",
            "_view_count": null,
            "_view_module": "@jupyter-widgets/base",
            "_view_module_version": "1.2.0",
            "_view_name": "LayoutView",
            "align_content": null,
            "align_items": null,
            "align_self": null,
            "border": null,
            "bottom": null,
            "display": null,
            "flex": null,
            "flex_flow": null,
            "grid_area": null,
            "grid_auto_columns": null,
            "grid_auto_flow": null,
            "grid_auto_rows": null,
            "grid_column": null,
            "grid_gap": null,
            "grid_row": null,
            "grid_template_areas": null,
            "grid_template_columns": null,
            "grid_template_rows": null,
            "height": null,
            "justify_content": null,
            "justify_items": null,
            "left": null,
            "margin": null,
            "max_height": null,
            "max_width": null,
            "min_height": null,
            "min_width": null,
            "object_fit": null,
            "object_position": null,
            "order": null,
            "overflow": null,
            "overflow_x": null,
            "overflow_y": null,
            "padding": null,
            "right": null,
            "top": null,
            "visibility": null,
            "width": null
          }
        },
        "22883bd83cf44bbfa23216f1d96c616c": {
          "model_module": "@jupyter-widgets/base",
          "model_name": "LayoutModel",
          "model_module_version": "1.2.0",
          "state": {
            "_model_module": "@jupyter-widgets/base",
            "_model_module_version": "1.2.0",
            "_model_name": "LayoutModel",
            "_view_count": null,
            "_view_module": "@jupyter-widgets/base",
            "_view_module_version": "1.2.0",
            "_view_name": "LayoutView",
            "align_content": null,
            "align_items": null,
            "align_self": null,
            "border": null,
            "bottom": null,
            "display": null,
            "flex": null,
            "flex_flow": null,
            "grid_area": null,
            "grid_auto_columns": null,
            "grid_auto_flow": null,
            "grid_auto_rows": null,
            "grid_column": null,
            "grid_gap": null,
            "grid_row": null,
            "grid_template_areas": null,
            "grid_template_columns": null,
            "grid_template_rows": null,
            "height": null,
            "justify_content": null,
            "justify_items": null,
            "left": null,
            "margin": null,
            "max_height": null,
            "max_width": null,
            "min_height": null,
            "min_width": null,
            "object_fit": null,
            "object_position": null,
            "order": null,
            "overflow": null,
            "overflow_x": null,
            "overflow_y": null,
            "padding": null,
            "right": null,
            "top": null,
            "visibility": null,
            "width": null
          }
        },
        "a3e67a43b8d74b3095ad3c3933a5e5d4": {
          "model_module": "@jupyter-widgets/controls",
          "model_name": "DescriptionStyleModel",
          "model_module_version": "1.5.0",
          "state": {
            "_model_module": "@jupyter-widgets/controls",
            "_model_module_version": "1.5.0",
            "_model_name": "DescriptionStyleModel",
            "_view_count": null,
            "_view_module": "@jupyter-widgets/base",
            "_view_module_version": "1.2.0",
            "_view_name": "StyleView",
            "description_width": ""
          }
        },
        "7977d3e5829f46faac41a2251a2b5d1d": {
          "model_module": "@jupyter-widgets/base",
          "model_name": "LayoutModel",
          "model_module_version": "1.2.0",
          "state": {
            "_model_module": "@jupyter-widgets/base",
            "_model_module_version": "1.2.0",
            "_model_name": "LayoutModel",
            "_view_count": null,
            "_view_module": "@jupyter-widgets/base",
            "_view_module_version": "1.2.0",
            "_view_name": "LayoutView",
            "align_content": null,
            "align_items": null,
            "align_self": null,
            "border": null,
            "bottom": null,
            "display": null,
            "flex": null,
            "flex_flow": null,
            "grid_area": null,
            "grid_auto_columns": null,
            "grid_auto_flow": null,
            "grid_auto_rows": null,
            "grid_column": null,
            "grid_gap": null,
            "grid_row": null,
            "grid_template_areas": null,
            "grid_template_columns": null,
            "grid_template_rows": null,
            "height": null,
            "justify_content": null,
            "justify_items": null,
            "left": null,
            "margin": null,
            "max_height": null,
            "max_width": null,
            "min_height": null,
            "min_width": null,
            "object_fit": null,
            "object_position": null,
            "order": null,
            "overflow": null,
            "overflow_x": null,
            "overflow_y": null,
            "padding": null,
            "right": null,
            "top": null,
            "visibility": null,
            "width": null
          }
        },
        "140d0daeb7404cc58a77ff4101be9b96": {
          "model_module": "@jupyter-widgets/controls",
          "model_name": "ProgressStyleModel",
          "model_module_version": "1.5.0",
          "state": {
            "_model_module": "@jupyter-widgets/controls",
            "_model_module_version": "1.5.0",
            "_model_name": "ProgressStyleModel",
            "_view_count": null,
            "_view_module": "@jupyter-widgets/base",
            "_view_module_version": "1.2.0",
            "_view_name": "StyleView",
            "bar_color": null,
            "description_width": ""
          }
        },
        "7e7a9c00567b4f65838f2f406c78373a": {
          "model_module": "@jupyter-widgets/base",
          "model_name": "LayoutModel",
          "model_module_version": "1.2.0",
          "state": {
            "_model_module": "@jupyter-widgets/base",
            "_model_module_version": "1.2.0",
            "_model_name": "LayoutModel",
            "_view_count": null,
            "_view_module": "@jupyter-widgets/base",
            "_view_module_version": "1.2.0",
            "_view_name": "LayoutView",
            "align_content": null,
            "align_items": null,
            "align_self": null,
            "border": null,
            "bottom": null,
            "display": null,
            "flex": null,
            "flex_flow": null,
            "grid_area": null,
            "grid_auto_columns": null,
            "grid_auto_flow": null,
            "grid_auto_rows": null,
            "grid_column": null,
            "grid_gap": null,
            "grid_row": null,
            "grid_template_areas": null,
            "grid_template_columns": null,
            "grid_template_rows": null,
            "height": null,
            "justify_content": null,
            "justify_items": null,
            "left": null,
            "margin": null,
            "max_height": null,
            "max_width": null,
            "min_height": null,
            "min_width": null,
            "object_fit": null,
            "object_position": null,
            "order": null,
            "overflow": null,
            "overflow_x": null,
            "overflow_y": null,
            "padding": null,
            "right": null,
            "top": null,
            "visibility": null,
            "width": null
          }
        },
        "a75d6bcc5bbd4574b703adcd124a8311": {
          "model_module": "@jupyter-widgets/controls",
          "model_name": "DescriptionStyleModel",
          "model_module_version": "1.5.0",
          "state": {
            "_model_module": "@jupyter-widgets/controls",
            "_model_module_version": "1.5.0",
            "_model_name": "DescriptionStyleModel",
            "_view_count": null,
            "_view_module": "@jupyter-widgets/base",
            "_view_module_version": "1.2.0",
            "_view_name": "StyleView",
            "description_width": ""
          }
        }
      }
    }
  },
  "nbformat": 4,
  "nbformat_minor": 5
}