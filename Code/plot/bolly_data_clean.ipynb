{
 "cells": [
  {
   "cell_type": "code",
   "execution_count": 2,
   "id": "d65da0bb",
   "metadata": {},
   "outputs": [
    {
     "name": "stdout",
     "output_type": "stream",
     "text": [
      "Requirement already satisfied: ipykernel in d:\\softwares\\anaconda3\\envs\\biasai\\lib\\site-packages (6.29.5)\n",
      "Requirement already satisfied: requests in d:\\softwares\\anaconda3\\envs\\biasai\\lib\\site-packages (2.32.4)\n",
      "Requirement already satisfied: pandas in d:\\softwares\\anaconda3\\envs\\biasai\\lib\\site-packages (2.3.1)\n",
      "Requirement already satisfied: matplotlib in d:\\softwares\\anaconda3\\envs\\biasai\\lib\\site-packages (3.10.3)\n",
      "Requirement already satisfied: jinja2 in d:\\softwares\\anaconda3\\envs\\biasai\\lib\\site-packages (3.1.6)\n",
      "Requirement already satisfied: gender-guesser in d:\\softwares\\anaconda3\\envs\\biasai\\lib\\site-packages (0.4.0)\n",
      "Requirement already satisfied: pymupdf in d:\\softwares\\anaconda3\\envs\\biasai\\lib\\site-packages (1.26.3)\n",
      "Requirement already satisfied: spacy in d:\\softwares\\anaconda3\\envs\\biasai\\lib\\site-packages (3.8.7)\n",
      "Requirement already satisfied: comm>=0.1.1 in d:\\softwares\\anaconda3\\envs\\biasai\\lib\\site-packages (from ipykernel) (0.2.2)\n",
      "Requirement already satisfied: debugpy>=1.6.5 in d:\\softwares\\anaconda3\\envs\\biasai\\lib\\site-packages (from ipykernel) (1.8.11)\n",
      "Requirement already satisfied: ipython>=7.23.1 in d:\\softwares\\anaconda3\\envs\\biasai\\lib\\site-packages (from ipykernel) (9.4.0)\n",
      "Requirement already satisfied: jupyter-client>=6.1.12 in d:\\softwares\\anaconda3\\envs\\biasai\\lib\\site-packages (from ipykernel) (8.6.3)\n",
      "Requirement already satisfied: jupyter-core!=5.0.*,>=4.12 in d:\\softwares\\anaconda3\\envs\\biasai\\lib\\site-packages (from ipykernel) (5.8.1)\n",
      "Requirement already satisfied: matplotlib-inline>=0.1 in d:\\softwares\\anaconda3\\envs\\biasai\\lib\\site-packages (from ipykernel) (0.1.7)\n",
      "Requirement already satisfied: nest-asyncio in d:\\softwares\\anaconda3\\envs\\biasai\\lib\\site-packages (from ipykernel) (1.6.0)\n",
      "Requirement already satisfied: packaging in d:\\softwares\\anaconda3\\envs\\biasai\\lib\\site-packages (from ipykernel) (25.0)\n",
      "Requirement already satisfied: psutil in d:\\softwares\\anaconda3\\envs\\biasai\\lib\\site-packages (from ipykernel) (5.9.0)\n",
      "Requirement already satisfied: pyzmq>=24 in d:\\softwares\\anaconda3\\envs\\biasai\\lib\\site-packages (from ipykernel) (26.2.0)\n",
      "Requirement already satisfied: tornado>=6.1 in d:\\softwares\\anaconda3\\envs\\biasai\\lib\\site-packages (from ipykernel) (6.5.1)\n",
      "Requirement already satisfied: traitlets>=5.4.0 in d:\\softwares\\anaconda3\\envs\\biasai\\lib\\site-packages (from ipykernel) (5.14.3)\n",
      "Requirement already satisfied: charset_normalizer<4,>=2 in d:\\softwares\\anaconda3\\envs\\biasai\\lib\\site-packages (from requests) (3.4.2)\n",
      "Requirement already satisfied: idna<4,>=2.5 in d:\\softwares\\anaconda3\\envs\\biasai\\lib\\site-packages (from requests) (3.10)\n",
      "Requirement already satisfied: urllib3<3,>=1.21.1 in d:\\softwares\\anaconda3\\envs\\biasai\\lib\\site-packages (from requests) (2.5.0)\n",
      "Requirement already satisfied: certifi>=2017.4.17 in d:\\softwares\\anaconda3\\envs\\biasai\\lib\\site-packages (from requests) (2025.7.9)\n",
      "Requirement already satisfied: numpy>=1.26.0 in d:\\softwares\\anaconda3\\envs\\biasai\\lib\\site-packages (from pandas) (2.3.1)\n",
      "Requirement already satisfied: python-dateutil>=2.8.2 in d:\\softwares\\anaconda3\\envs\\biasai\\lib\\site-packages (from pandas) (2.9.0.post0)\n",
      "Requirement already satisfied: pytz>=2020.1 in d:\\softwares\\anaconda3\\envs\\biasai\\lib\\site-packages (from pandas) (2025.2)\n",
      "Requirement already satisfied: tzdata>=2022.7 in d:\\softwares\\anaconda3\\envs\\biasai\\lib\\site-packages (from pandas) (2025.2)\n",
      "Requirement already satisfied: contourpy>=1.0.1 in d:\\softwares\\anaconda3\\envs\\biasai\\lib\\site-packages (from matplotlib) (1.3.2)\n",
      "Requirement already satisfied: cycler>=0.10 in d:\\softwares\\anaconda3\\envs\\biasai\\lib\\site-packages (from matplotlib) (0.12.1)\n",
      "Requirement already satisfied: fonttools>=4.22.0 in d:\\softwares\\anaconda3\\envs\\biasai\\lib\\site-packages (from matplotlib) (4.58.5)\n",
      "Requirement already satisfied: kiwisolver>=1.3.1 in d:\\softwares\\anaconda3\\envs\\biasai\\lib\\site-packages (from matplotlib) (1.4.8)\n",
      "Requirement already satisfied: pillow>=8 in d:\\softwares\\anaconda3\\envs\\biasai\\lib\\site-packages (from matplotlib) (11.3.0)\n",
      "Requirement already satisfied: pyparsing>=2.3.1 in d:\\softwares\\anaconda3\\envs\\biasai\\lib\\site-packages (from matplotlib) (3.2.3)\n",
      "Requirement already satisfied: MarkupSafe>=2.0 in d:\\softwares\\anaconda3\\envs\\biasai\\lib\\site-packages (from jinja2) (3.0.2)\n",
      "Requirement already satisfied: spacy-legacy<3.1.0,>=3.0.11 in d:\\softwares\\anaconda3\\envs\\biasai\\lib\\site-packages (from spacy) (3.0.12)\n",
      "Requirement already satisfied: spacy-loggers<2.0.0,>=1.0.0 in d:\\softwares\\anaconda3\\envs\\biasai\\lib\\site-packages (from spacy) (1.0.5)\n",
      "Requirement already satisfied: murmurhash<1.1.0,>=0.28.0 in d:\\softwares\\anaconda3\\envs\\biasai\\lib\\site-packages (from spacy) (1.0.13)\n",
      "Requirement already satisfied: cymem<2.1.0,>=2.0.2 in d:\\softwares\\anaconda3\\envs\\biasai\\lib\\site-packages (from spacy) (2.0.11)\n",
      "Requirement already satisfied: preshed<3.1.0,>=3.0.2 in d:\\softwares\\anaconda3\\envs\\biasai\\lib\\site-packages (from spacy) (3.0.10)\n",
      "Requirement already satisfied: thinc<8.4.0,>=8.3.4 in d:\\softwares\\anaconda3\\envs\\biasai\\lib\\site-packages (from spacy) (8.3.6)\n",
      "Requirement already satisfied: wasabi<1.2.0,>=0.9.1 in d:\\softwares\\anaconda3\\envs\\biasai\\lib\\site-packages (from spacy) (1.1.3)\n",
      "Requirement already satisfied: srsly<3.0.0,>=2.4.3 in d:\\softwares\\anaconda3\\envs\\biasai\\lib\\site-packages (from spacy) (2.5.1)\n",
      "Requirement already satisfied: catalogue<2.1.0,>=2.0.6 in d:\\softwares\\anaconda3\\envs\\biasai\\lib\\site-packages (from spacy) (2.0.10)\n",
      "Requirement already satisfied: weasel<0.5.0,>=0.1.0 in d:\\softwares\\anaconda3\\envs\\biasai\\lib\\site-packages (from spacy) (0.4.1)\n",
      "Requirement already satisfied: typer<1.0.0,>=0.3.0 in d:\\softwares\\anaconda3\\envs\\biasai\\lib\\site-packages (from spacy) (0.16.0)\n",
      "Requirement already satisfied: tqdm<5.0.0,>=4.38.0 in d:\\softwares\\anaconda3\\envs\\biasai\\lib\\site-packages (from spacy) (4.67.1)\n",
      "Requirement already satisfied: pydantic!=1.8,!=1.8.1,<3.0.0,>=1.7.4 in d:\\softwares\\anaconda3\\envs\\biasai\\lib\\site-packages (from spacy) (2.11.7)\n",
      "Requirement already satisfied: setuptools in d:\\softwares\\anaconda3\\envs\\biasai\\lib\\site-packages (from spacy) (78.1.1)\n",
      "Requirement already satisfied: langcodes<4.0.0,>=3.2.0 in d:\\softwares\\anaconda3\\envs\\biasai\\lib\\site-packages (from spacy) (3.5.0)\n",
      "Requirement already satisfied: language-data>=1.2 in d:\\softwares\\anaconda3\\envs\\biasai\\lib\\site-packages (from langcodes<4.0.0,>=3.2.0->spacy) (1.3.0)\n",
      "Requirement already satisfied: annotated-types>=0.6.0 in d:\\softwares\\anaconda3\\envs\\biasai\\lib\\site-packages (from pydantic!=1.8,!=1.8.1,<3.0.0,>=1.7.4->spacy) (0.7.0)\n",
      "Requirement already satisfied: pydantic-core==2.33.2 in d:\\softwares\\anaconda3\\envs\\biasai\\lib\\site-packages (from pydantic!=1.8,!=1.8.1,<3.0.0,>=1.7.4->spacy) (2.33.2)\n",
      "Requirement already satisfied: typing-extensions>=4.12.2 in d:\\softwares\\anaconda3\\envs\\biasai\\lib\\site-packages (from pydantic!=1.8,!=1.8.1,<3.0.0,>=1.7.4->spacy) (4.14.1)\n",
      "Requirement already satisfied: typing-inspection>=0.4.0 in d:\\softwares\\anaconda3\\envs\\biasai\\lib\\site-packages (from pydantic!=1.8,!=1.8.1,<3.0.0,>=1.7.4->spacy) (0.4.1)\n",
      "Requirement already satisfied: blis<1.4.0,>=1.3.0 in d:\\softwares\\anaconda3\\envs\\biasai\\lib\\site-packages (from thinc<8.4.0,>=8.3.4->spacy) (1.3.0)\n",
      "Requirement already satisfied: confection<1.0.0,>=0.0.1 in d:\\softwares\\anaconda3\\envs\\biasai\\lib\\site-packages (from thinc<8.4.0,>=8.3.4->spacy) (0.1.5)\n",
      "Requirement already satisfied: colorama in d:\\softwares\\anaconda3\\envs\\biasai\\lib\\site-packages (from tqdm<5.0.0,>=4.38.0->spacy) (0.4.6)\n",
      "Requirement already satisfied: click>=8.0.0 in d:\\softwares\\anaconda3\\envs\\biasai\\lib\\site-packages (from typer<1.0.0,>=0.3.0->spacy) (8.2.1)\n",
      "Requirement already satisfied: shellingham>=1.3.0 in d:\\softwares\\anaconda3\\envs\\biasai\\lib\\site-packages (from typer<1.0.0,>=0.3.0->spacy) (1.5.4)\n",
      "Requirement already satisfied: rich>=10.11.0 in d:\\softwares\\anaconda3\\envs\\biasai\\lib\\site-packages (from typer<1.0.0,>=0.3.0->spacy) (14.0.0)\n",
      "Requirement already satisfied: cloudpathlib<1.0.0,>=0.7.0 in d:\\softwares\\anaconda3\\envs\\biasai\\lib\\site-packages (from weasel<0.5.0,>=0.1.0->spacy) (0.21.1)\n",
      "Requirement already satisfied: smart-open<8.0.0,>=5.2.1 in d:\\softwares\\anaconda3\\envs\\biasai\\lib\\site-packages (from weasel<0.5.0,>=0.1.0->spacy) (7.3.0.post1)\n",
      "Requirement already satisfied: wrapt in d:\\softwares\\anaconda3\\envs\\biasai\\lib\\site-packages (from smart-open<8.0.0,>=5.2.1->weasel<0.5.0,>=0.1.0->spacy) (1.17.2)\n",
      "Requirement already satisfied: decorator in d:\\softwares\\anaconda3\\envs\\biasai\\lib\\site-packages (from ipython>=7.23.1->ipykernel) (5.2.1)\n",
      "Requirement already satisfied: ipython-pygments-lexers in d:\\softwares\\anaconda3\\envs\\biasai\\lib\\site-packages (from ipython>=7.23.1->ipykernel) (1.1.1)\n",
      "Requirement already satisfied: jedi>=0.16 in d:\\softwares\\anaconda3\\envs\\biasai\\lib\\site-packages (from ipython>=7.23.1->ipykernel) (0.19.2)\n",
      "Requirement already satisfied: prompt_toolkit<3.1.0,>=3.0.41 in d:\\softwares\\anaconda3\\envs\\biasai\\lib\\site-packages (from ipython>=7.23.1->ipykernel) (3.0.51)\n",
      "Requirement already satisfied: pygments>=2.4.0 in d:\\softwares\\anaconda3\\envs\\biasai\\lib\\site-packages (from ipython>=7.23.1->ipykernel) (2.19.2)\n",
      "Requirement already satisfied: stack_data in d:\\softwares\\anaconda3\\envs\\biasai\\lib\\site-packages (from ipython>=7.23.1->ipykernel) (0.6.3)\n",
      "Requirement already satisfied: wcwidth in d:\\softwares\\anaconda3\\envs\\biasai\\lib\\site-packages (from prompt_toolkit<3.1.0,>=3.0.41->ipython>=7.23.1->ipykernel) (0.2.13)\n",
      "Requirement already satisfied: parso<0.9.0,>=0.8.4 in d:\\softwares\\anaconda3\\envs\\biasai\\lib\\site-packages (from jedi>=0.16->ipython>=7.23.1->ipykernel) (0.8.4)\n",
      "Requirement already satisfied: platformdirs>=2.5 in d:\\softwares\\anaconda3\\envs\\biasai\\lib\\site-packages (from jupyter-core!=5.0.*,>=4.12->ipykernel) (4.3.8)\n",
      "Requirement already satisfied: pywin32>=300 in d:\\softwares\\anaconda3\\envs\\biasai\\lib\\site-packages (from jupyter-core!=5.0.*,>=4.12->ipykernel) (308)\n",
      "Requirement already satisfied: marisa-trie>=1.1.0 in d:\\softwares\\anaconda3\\envs\\biasai\\lib\\site-packages (from language-data>=1.2->langcodes<4.0.0,>=3.2.0->spacy) (1.2.1)\n",
      "Requirement already satisfied: six>=1.5 in d:\\softwares\\anaconda3\\envs\\biasai\\lib\\site-packages (from python-dateutil>=2.8.2->pandas) (1.17.0)\n",
      "Requirement already satisfied: markdown-it-py>=2.2.0 in d:\\softwares\\anaconda3\\envs\\biasai\\lib\\site-packages (from rich>=10.11.0->typer<1.0.0,>=0.3.0->spacy) (3.0.0)\n",
      "Requirement already satisfied: mdurl~=0.1 in d:\\softwares\\anaconda3\\envs\\biasai\\lib\\site-packages (from markdown-it-py>=2.2.0->rich>=10.11.0->typer<1.0.0,>=0.3.0->spacy) (0.1.2)\n",
      "Requirement already satisfied: executing>=1.2.0 in d:\\softwares\\anaconda3\\envs\\biasai\\lib\\site-packages (from stack_data->ipython>=7.23.1->ipykernel) (2.2.0)\n",
      "Requirement already satisfied: asttokens>=2.1.0 in d:\\softwares\\anaconda3\\envs\\biasai\\lib\\site-packages (from stack_data->ipython>=7.23.1->ipykernel) (3.0.0)\n",
      "Requirement already satisfied: pure_eval in d:\\softwares\\anaconda3\\envs\\biasai\\lib\\site-packages (from stack_data->ipython>=7.23.1->ipykernel) (0.2.3)\n",
      "Note: you may need to restart the kernel to use updated packages.\n"
     ]
    }
   ],
   "source": [
    "%pip install ipykernel requests pandas matplotlib jinja2 gender-guesser pymupdf spacy\n"
   ]
  },
  {
   "cell_type": "code",
   "execution_count": 3,
   "id": "113e1f2d",
   "metadata": {},
   "outputs": [
    {
     "name": "stdout",
     "output_type": "stream",
     "text": [
      "\u001b[38;5;2m✔ Download and installation successful\u001b[0m\n",
      "You can now load the package via spacy.load('en_core_web_sm')\n",
      "\u001b[38;5;3m⚠ Restart to reload dependencies\u001b[0m\n",
      "If you are in a Jupyter or Colab notebook, you may need to restart Python in\n",
      "order to load all the package's dependencies. You can do this by selecting the\n",
      "'Restart kernel' or 'Restart runtime' option.\n"
     ]
    }
   ],
   "source": [
    "import spacy.cli\n",
    "spacy.cli.download(\"en_core_web_sm\")"
   ]
  },
  {
   "cell_type": "code",
   "execution_count": 4,
   "id": "e8dca0c0",
   "metadata": {},
   "outputs": [],
   "source": [
    "import os\n",
    "import fitz  # PyMuPDF\n",
    "import re\n",
    "import spacy\n",
    "import pandas as pd\n",
    "from gender_guesser.detector import Detector\n",
    "\n",
    "# Load spaCy and gender detector\n",
    "nlp = spacy.load(\"en_core_web_sm\")\n",
    "gender_detector = Detector()\n"
   ]
  },
  {
   "cell_type": "code",
   "execution_count": 5,
   "id": "5d723737",
   "metadata": {},
   "outputs": [
    {
     "name": "stderr",
     "output_type": "stream",
     "text": [
      "<>:15: SyntaxWarning: invalid escape sequence '\\P'\n",
      "<>:15: SyntaxWarning: invalid escape sequence '\\P'\n",
      "C:\\Users\\Aldrin Joan\\AppData\\Local\\Temp\\ipykernel_47716\\1083483818.py:15: SyntaxWarning: invalid escape sequence '\\P'\n",
      "  scripts = load_scripts_from_folder(\"D:\\PROG\\docu3C\\BollyAI_2_0\\Data\\scripts-data\")\n"
     ]
    },
    {
     "name": "stdout",
     "output_type": "stream",
     "text": [
      "✅ Loaded 13 scripts.\n"
     ]
    }
   ],
   "source": [
    "def extract_script_text(pdf_path):\n",
    "    with fitz.open(pdf_path) as doc:\n",
    "        return \"\\n\".join([page.get_text() for page in doc])\n",
    "\n",
    "def load_scripts_from_folder(folder_path):\n",
    "    scripts = {}\n",
    "    for filename in os.listdir(folder_path):\n",
    "        if filename.endswith(\".pdf\"):\n",
    "            title = filename.replace('.pdf', '')\n",
    "            text = extract_script_text(os.path.join(folder_path, filename))\n",
    "            scripts[title] = text\n",
    "    return scripts\n",
    "\n",
    "# Update path to your local folder\n",
    "scripts = load_scripts_from_folder(\"D:\\PROG\\docu3C\\BollyAI_2_0\\Data\\scripts-data\")\n",
    "print(f\"✅ Loaded {len(scripts)} scripts.\")\n"
   ]
  },
  {
   "cell_type": "code",
   "execution_count": 6,
   "id": "da5931a1",
   "metadata": {},
   "outputs": [],
   "source": [
    "def extract_intro_lines(text):\n",
    "    lines = text.split('\\n')\n",
    "    clean_lines = []\n",
    "\n",
    "    for line in lines:\n",
    "        line = line.strip()\n",
    "        if 5 < len(line.split()) < 30:\n",
    "            if not line.isupper() and not re.match(r'^[A-Z]+:$', line):\n",
    "                clean_lines.append(line)\n",
    "    return clean_lines\n"
   ]
  },
  {
   "cell_type": "code",
   "execution_count": 7,
   "id": "5a56c86d",
   "metadata": {},
   "outputs": [],
   "source": [
    "def detect_character_and_gender(line):\n",
    "    doc = nlp(line)\n",
    "    for ent in doc.ents:\n",
    "        if ent.label_ == \"PERSON\":\n",
    "            name = ent.text\n",
    "            gender = gender_detector.get_gender(name.split()[0])\n",
    "            return name, gender\n",
    "    return None, None\n"
   ]
  },
  {
   "cell_type": "code",
   "execution_count": 9,
   "id": "981ec6e2",
   "metadata": {},
   "outputs": [
    {
     "name": "stderr",
     "output_type": "stream",
     "text": [
      "<>:16: SyntaxWarning: invalid escape sequence '\\P'\n",
      "<>:16: SyntaxWarning: invalid escape sequence '\\P'\n",
      "C:\\Users\\Aldrin Joan\\AppData\\Local\\Temp\\ipykernel_47716\\322005054.py:16: SyntaxWarning: invalid escape sequence '\\P'\n",
      "  df_cleaned.to_csv(\"D:\\PROG\\docu3C\\BollyAI_2_0\\output\\cleaned_script_data_plots.csv\", index=False)\n"
     ]
    },
    {
     "name": "stdout",
     "output_type": "stream",
     "text": [
      "✅ Saved cleaned data to cleaned_script_data_plots.csv\n"
     ]
    },
    {
     "data": {
      "text/html": [
       "<div>\n",
       "<style scoped>\n",
       "    .dataframe tbody tr th:only-of-type {\n",
       "        vertical-align: middle;\n",
       "    }\n",
       "\n",
       "    .dataframe tbody tr th {\n",
       "        vertical-align: top;\n",
       "    }\n",
       "\n",
       "    .dataframe thead th {\n",
       "        text-align: right;\n",
       "    }\n",
       "</style>\n",
       "<table border=\"1\" class=\"dataframe\">\n",
       "  <thead>\n",
       "    <tr style=\"text-align: right;\">\n",
       "      <th></th>\n",
       "      <th>script</th>\n",
       "      <th>character</th>\n",
       "      <th>gender</th>\n",
       "      <th>line</th>\n",
       "    </tr>\n",
       "  </thead>\n",
       "  <tbody>\n",
       "    <tr>\n",
       "      <th>0</th>\n",
       "      <td>Haider</td>\n",
       "      <td>Shiraz</td>\n",
       "      <td>male</td>\n",
       "      <td>detained at the Shiraz cinema camp…</td>\n",
       "    </tr>\n",
       "    <tr>\n",
       "      <th>1</th>\n",
       "      <td>Haider</td>\n",
       "      <td>Ghazala</td>\n",
       "      <td>female</td>\n",
       "      <td>Ghazala sees the soldier raising the barricade...</td>\n",
       "    </tr>\n",
       "    <tr>\n",
       "      <th>2</th>\n",
       "      <td>Haider</td>\n",
       "      <td>Ghazala</td>\n",
       "      <td>female</td>\n",
       "      <td>Surgical instruments are boiling in a pot. Gha...</td>\n",
       "    </tr>\n",
       "    <tr>\n",
       "      <th>3</th>\n",
       "      <td>Haider</td>\n",
       "      <td>Ghazala</td>\n",
       "      <td>female</td>\n",
       "      <td>silent, Ghazala has a sense of paranoia in her...</td>\n",
       "    </tr>\n",
       "    <tr>\n",
       "      <th>4</th>\n",
       "      <td>Haider</td>\n",
       "      <td>Ghazala</td>\n",
       "      <td>female</td>\n",
       "      <td>in with a bunch of other surgical tools in a t...</td>\n",
       "    </tr>\n",
       "  </tbody>\n",
       "</table>\n",
       "</div>"
      ],
      "text/plain": [
       "   script character  gender                                               line\n",
       "0  Haider    Shiraz    male                detained at the Shiraz cinema camp…\n",
       "1  Haider   Ghazala  female  Ghazala sees the soldier raising the barricade...\n",
       "2  Haider   Ghazala  female  Surgical instruments are boiling in a pot. Gha...\n",
       "3  Haider   Ghazala  female  silent, Ghazala has a sense of paranoia in her...\n",
       "4  Haider   Ghazala  female  in with a bunch of other surgical tools in a t..."
      ]
     },
     "execution_count": 9,
     "metadata": {},
     "output_type": "execute_result"
    }
   ],
   "source": [
    "clean_data = []\n",
    "\n",
    "for title, text in scripts.items():\n",
    "    lines = extract_intro_lines(text)\n",
    "    for line in lines:\n",
    "        character, gender = detect_character_and_gender(line)\n",
    "        if character and gender in ['male', 'female']:\n",
    "            clean_data.append({\n",
    "                \"script\": title,\n",
    "                \"character\": character,\n",
    "                \"gender\": gender,\n",
    "                \"line\": line.strip()\n",
    "            })\n",
    "\n",
    "df_cleaned = pd.DataFrame(clean_data)\n",
    "df_cleaned.to_csv(\"D:\\PROG\\docu3C\\BollyAI_2_0\\output\\cleaned_script_data_plots.csv\", index=False)\n",
    "print(\"✅ Saved cleaned data to cleaned_script_data_plots.csv\")\n",
    "df_cleaned.head()\n"
   ]
  }
 ],
 "metadata": {
  "kernelspec": {
   "display_name": "biasai",
   "language": "python",
   "name": "python3"
  },
  "language_info": {
   "codemirror_mode": {
    "name": "ipython",
    "version": 3
   },
   "file_extension": ".py",
   "mimetype": "text/x-python",
   "name": "python",
   "nbconvert_exporter": "python",
   "pygments_lexer": "ipython3",
   "version": "3.13.5"
  }
 },
 "nbformat": 4,
 "nbformat_minor": 5
}
